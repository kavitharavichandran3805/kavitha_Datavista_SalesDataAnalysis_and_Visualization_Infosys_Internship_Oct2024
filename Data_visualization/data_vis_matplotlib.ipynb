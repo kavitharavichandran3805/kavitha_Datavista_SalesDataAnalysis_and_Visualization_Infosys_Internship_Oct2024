{
 "cells": [
  {
   "cell_type": "code",
   "execution_count": 1,
   "id": "308db314",
   "metadata": {},
   "outputs": [],
   "source": [
    "import matplotlib.pyplot as plt\n",
    "\n",
    "x = [1, 2, 3, 4, 5]\n",
    "y = [1, 4, 9, 16, 25]\n",
    "\n",
    "plt.plot(x, y)\n",
    "\n",
    "plt.xlabel('X-axis')\n",
    "plt.ylabel('Y-axis')\n",
    "plt.title('Simple Line Plot')\n",
    "\n",
    "plt.show()"
   ]
  },
  {
   "cell_type": "code",
   "execution_count": 2,
   "id": "55aa8df6",
   "metadata": {},
   "outputs": [],
   "source": [
    "import matplotlib.pyplot as plt\n",
    "\n",
    "x = [1, 2, 3, 4, 5]\n",
    "y = [5, 7, 8, 9, 12]\n",
    "\n",
    "plt.scatter(x, y, color='red')\n",
    "\n",
    "plt.xlabel('X-axis')\n",
    "plt.ylabel('Y-axis')\n",
    "plt.title('Simple Scatter Plot')\n",
    "\n",
    "plt.show()"
   ]
  },
  {
   "cell_type": "code",
   "execution_count": 3,
   "id": "c7ba1102",
   "metadata": {},
   "outputs": [],
   "source": [
    "import matplotlib.pyplot as plt\n",
    "\n",
    "categories = ['A', 'B', 'C', 'D']\n",
    "values = [5, 7, 3, 8]\n",
    "\n",
    "plt.bar(categories, values, color='blue')\n",
    "\n",
    "plt.xlabel('Categories')\n",
    "plt.ylabel('Values')\n",
    "plt.title('Simple Bar Plot')\n",
    "\n",
    "plt.show()"
   ]
  },
  {
   "cell_type": "code",
   "execution_count": 4,
   "id": "0793a5f5",
   "metadata": {},
   "outputs": [],
   "source": [
    "import matplotlib.pyplot as plt\n",
    "\n",
    "data = [1, 2, 2, 3, 3, 3, 4, 4, 4, 4, 5, 5, 5, 5, 5]\n",
    "\n",
    "plt.hist(data, bins=5, color='green')\n",
    "\n",
    "plt.xlabel('Value')\n",
    "plt.ylabel('Frequency')\n",
    "plt.title('Simple Histogram')\n",
    "\n",
    "plt.show()"
   ]
  },
  {
   "cell_type": "code",
   "execution_count": 5,
   "id": "24a27706",
   "metadata": {},
   "outputs": [],
   "source": [
    "import matplotlib.pyplot as plt\n",
    "\n",
    "x = [1, 2, 3, 4, 5]\n",
    "y1 = [1, 4, 9, 16, 25]\n",
    "y2 = [5, 7, 8, 6, 9]\n",
    "\n",
    "plt.subplot(1, 2, 1)  # 1 row, 2 columns, 1st plot\n",
    "plt.plot(x, y1)\n",
    "plt.title('Line Plot')\n",
    "\n",
    "plt.subplot(1, 2, 2)  # 1 row, 2 columns, 2nd plot\n",
    "plt.bar(x, y2)\n",
    "plt.title('Bar Plot')\n",
    "\n",
    "plt.tight_layout()  # Adjust layout to prevent overlap\n",
    "plt.show()"
   ]
  },
  {
   "cell_type": "code",
   "execution_count": 6,
   "id": "4f28bd64",
   "metadata": {},
   "outputs": [],
   "source": [
    "import matplotlib.pyplot as plt\n",
    "\n",
    "x = [1, 2, 3, 4, 5]\n",
    "y1 = [1, 4, 9, 16, 25]\n",
    "y2 = [5, 7, 8, 6, 9]\n",
    "\n",
    "plt.subplot(1, 2, 1)  # 1 row, 2 columns, 1st plot\n",
    "plt.plot(x, y1)\n",
    "plt.title('Line Plot')\n",
    "\n",
    "plt.subplot(1, 2, 2)  # 1 row, 2 columns, 2nd plot\n",
    "plt.bar(x, y2)\n",
    "plt.title('Bar Plot')\n",
    "\n",
    "plt.tight_layout()  # Adjust layout to prevent overlap\n",
    "plt.show()"
   ]
  },
  {
   "cell_type": "code",
   "execution_count": 7,
   "id": "fc2a20a1",
   "metadata": {},
   "outputs": [],
   "source": [
    "import matplotlib.pyplot as plt\n",
    "\n",
    "x = [1, 2, 3, 4, 5]\n",
    "y = [2, 3, 5, 7, 11]\n",
    "\n",
    "plt.plot(x, y, color='purple', linestyle='--', marker='o', markersize=8)\n",
    "plt.title('Custom Line Styles')\n",
    "plt.xlabel('X-axis')\n",
    "plt.ylabel('Y-axis')\n",
    "plt.grid(True)  \n",
    "plt.show()"
   ]
  },
  {
   "cell_type": "code",
   "execution_count": 8,
   "id": "aaa9e8a3",
   "metadata": {},
   "outputs": [],
   "source": [
    "import matplotlib.pyplot as plt\n",
    "\n",
    "x = [1, 2, 3, 4, 5]\n",
    "y = [2, 3, 5, 7, 11]\n",
    "\n",
    "plt.plot(x, y)\n",
    "plt.title('Saving a Plot')\n",
    "plt.xlabel('X-axis')\n",
    "plt.ylabel('Y-axis')\n",
    "\n",
    "plt.savefig('my_plot.png', dpi=300)\n",
    "plt.show()"
   ]
  },
  {
   "cell_type": "code",
   "execution_count": 9,
   "id": "56f9cd5b",
   "metadata": {},
   "outputs": [],
   "source": [
    "import matplotlib.pyplot as plt\n",
    "import numpy as np\n",
    "\n",
    "x = np.linspace(1, 100, 100)\n",
    "y = np.log(x)\n",
    "\n",
    "plt.plot(x, y)\n",
    "plt.title('Logarithmic Scale Example')\n",
    "plt.xlabel('X-axis')"
   ]
  },
  {
   "cell_type": "code",
   "execution_count": 10,
   "id": "1d4525db",
   "metadata": {},
   "outputs": [],
   "source": [
    "import matplotlib.pyplot as plt\n",
    "\n",
    "x = [1, 2, 3, 4, 5]\n",
    "y = [2, 3, 5, 7, 11]\n",
    "\n",
    "plt.plot(x, y)\n",
    "plt.title('Plot with Annotations')\n",
    "plt.xlabel('X-axis')\n",
    "plt.ylabel('Y-axis')\n",
    "\n",
    "\n",
    "plt.annotate('Peak Point', xy=(5, 11), xytext=(3, 10),\n",
    "             arrowprops=dict(facecolor='black', shrink=0.05))\n",
    "\n",
    "plt.show()"
   ]
  },
  {
   "cell_type": "code",
   "execution_count": null,
   "id": "04ef5073",
   "metadata": {},
   "outputs": [],
   "source": []
  }
 ],
 "metadata": {
  "kernelspec": {
   "display_name": "Python 3 (ipykernel)",
   "language": "python",
   "name": "python3"
  },
  "language_info": {
   "codemirror_mode": {
    "name": "ipython",
    "version": 3
   },
   "file_extension": ".py",
   "mimetype": "text/x-python",
   "name": "python",
   "nbconvert_exporter": "python",
   "pygments_lexer": "ipython3",
   "version": "3.11.1"
  }
 },
 "nbformat": 4,
 "nbformat_minor": 5
}
